{
  "nbformat": 4,
  "nbformat_minor": 0,
  "metadata": {
    "colab": {
      "name": "STS BoW and CNN Models.ipynb",
      "provenance": [],
      "collapsed_sections": [],
      "toc_visible": true,
      "machine_shape": "hm"
    },
    "kernelspec": {
      "name": "python3",
      "display_name": "Python 3"
    },
    "language_info": {
      "name": "python"
    }
  },
  "cells": [
    {
      "cell_type": "markdown",
      "metadata": {
        "id": "T-OUIC_pqU-L"
      },
      "source": [
        "## Data Loading"
      ]
    },
    {
      "cell_type": "code",
      "metadata": {
        "colab": {
          "base_uri": "https://localhost:8080/",
          "height": 847
        },
        "id": "0GXYPrUmqT2i",
        "outputId": "45d6e5dd-501d-4d1f-9d4f-79078f07ea97"
      },
      "source": [
        "!wget http://ixa2.si.ehu.es/stswiki/images/4/48/Stsbenchmark.tar.gz\n",
        "\n",
        "from collections import Counter\n",
        "\n",
        "!tar -xf Stsbenchmark.tar.gz\n",
        "\n",
        "import pandas as pd\n",
        "import csv\n",
        "import numpy as np\n",
        "\n",
        "train=pd.read_csv(\"stsbenchmark/sts-train.csv\",sep=\"\\t\",names=\"genre     file    years   number   score  sentence1 sentence2\".split())\n",
        "test=pd.read_csv(\"stsbenchmark/sts-test.csv\",sep=\"\\t\",names=\"genre     file    years   number   score  sentence1 sentence2\".split(),error_bad_lines=False,quoting=csv.QUOTE_NONE, encoding='utf-8')\n",
        "dev=pd.read_csv(\"stsbenchmark/sts-dev.csv\",sep=\"\\t\",names=\"genre     file    years   number   score  sentence1 sentence2\".split(),error_bad_lines=False)\n",
        "print(train.shape, test.shape, dev.shape)\n",
        "train = train.dropna()\n",
        "test = test.dropna()\n",
        "dev = dev.dropna()\n",
        "print(train.shape, test.shape, dev.shape)\n",
        "\n",
        "train[\"genre\"].unique()\n",
        "\n",
        "train.score.value_counts()\n",
        "\n",
        "#temp = train[train[\"genre\"]==\"main-forums\"]\n",
        "#temp[temp[\"label\"]==1]\n",
        "\n",
        "def convert_to_score(x):\n",
        "  if x<=2.0:\n",
        "    return 0\n",
        "  elif x>2.0 and x<=3.0:\n",
        "    return 1\n",
        "  else:\n",
        "    return 2\n",
        "\n",
        "train[\"label\"]=train[\"score\"].apply(convert_to_score)\n",
        "test[\"label\"]=test[\"score\"].apply(convert_to_score)\n",
        "dev[\"label\"]=dev[\"score\"].apply(convert_to_score)\n",
        "\n",
        "test = test.filter([\"sentence1\",\"sentence2\",\"label\",\"genre\"])\n",
        "train = train.filter([\"sentence1\",\"sentence2\",\"label\",\"genre\"])\n",
        "dev = dev.filter([\"sentence1\",\"sentence2\",\"label\",\"genre\"])\n",
        "\n",
        "train[\"genre\"] = train[\"genre\"].apply(lambda x : x if x!=\"main-forum\" else \"main-forums\")\n",
        "\n",
        "train[\"genre\"].unique()\n",
        "\n",
        "test\n"
      ],
      "execution_count": null,
      "outputs": [
        {
          "output_type": "stream",
          "name": "stdout",
          "text": [
            "--2021-11-30 05:36:39--  http://ixa2.si.ehu.es/stswiki/images/4/48/Stsbenchmark.tar.gz\n",
            "Resolving ixa2.si.ehu.es (ixa2.si.ehu.es)... 158.227.106.100\n",
            "Connecting to ixa2.si.ehu.es (ixa2.si.ehu.es)|158.227.106.100|:80... connected.\n",
            "HTTP request sent, awaiting response... 302 Found\n",
            "Location: http://ixa2.si.ehu.eus/stswiki/images/4/48/Stsbenchmark.tar.gz [following]\n",
            "--2021-11-30 05:36:39--  http://ixa2.si.ehu.eus/stswiki/images/4/48/Stsbenchmark.tar.gz\n",
            "Resolving ixa2.si.ehu.eus (ixa2.si.ehu.eus)... 158.227.106.100\n",
            "Connecting to ixa2.si.ehu.eus (ixa2.si.ehu.eus)|158.227.106.100|:80... connected.\n",
            "HTTP request sent, awaiting response... 200 OK\n",
            "Length: 409630 (400K) [application/x-gzip]\n",
            "Saving to: ‘Stsbenchmark.tar.gz’\n",
            "\n",
            "Stsbenchmark.tar.gz 100%[===================>] 400.03K   542KB/s    in 0.7s    \n",
            "\n",
            "2021-11-30 05:36:41 (542 KB/s) - ‘Stsbenchmark.tar.gz’ saved [409630/409630]\n",
            "\n",
            "(5711, 7) (1379, 7) (1470, 7)\n",
            "(5708, 7) (1379, 7) (1468, 7)\n"
          ]
        },
        {
          "output_type": "stream",
          "name": "stderr",
          "text": [
            "/usr/local/lib/python3.7/dist-packages/ipykernel_launcher.py:35: SettingWithCopyWarning: \n",
            "A value is trying to be set on a copy of a slice from a DataFrame.\n",
            "Try using .loc[row_indexer,col_indexer] = value instead\n",
            "\n",
            "See the caveats in the documentation: https://pandas.pydata.org/pandas-docs/stable/user_guide/indexing.html#returning-a-view-versus-a-copy\n"
          ]
        },
        {
          "output_type": "execute_result",
          "data": {
            "text/html": [
              "<div>\n",
              "<style scoped>\n",
              "    .dataframe tbody tr th:only-of-type {\n",
              "        vertical-align: middle;\n",
              "    }\n",
              "\n",
              "    .dataframe tbody tr th {\n",
              "        vertical-align: top;\n",
              "    }\n",
              "\n",
              "    .dataframe thead th {\n",
              "        text-align: right;\n",
              "    }\n",
              "</style>\n",
              "<table border=\"1\" class=\"dataframe\">\n",
              "  <thead>\n",
              "    <tr style=\"text-align: right;\">\n",
              "      <th></th>\n",
              "      <th>sentence1</th>\n",
              "      <th>sentence2</th>\n",
              "      <th>label</th>\n",
              "      <th>genre</th>\n",
              "    </tr>\n",
              "  </thead>\n",
              "  <tbody>\n",
              "    <tr>\n",
              "      <th>0</th>\n",
              "      <td>A girl is styling her hair.</td>\n",
              "      <td>A girl is brushing her hair.</td>\n",
              "      <td>1</td>\n",
              "      <td>main-captions</td>\n",
              "    </tr>\n",
              "    <tr>\n",
              "      <th>1</th>\n",
              "      <td>A group of men play soccer on the beach.</td>\n",
              "      <td>A group of boys are playing soccer on the beach.</td>\n",
              "      <td>2</td>\n",
              "      <td>main-captions</td>\n",
              "    </tr>\n",
              "    <tr>\n",
              "      <th>2</th>\n",
              "      <td>One woman is measuring another woman's ankle.</td>\n",
              "      <td>A woman measures another woman's ankle.</td>\n",
              "      <td>2</td>\n",
              "      <td>main-captions</td>\n",
              "    </tr>\n",
              "    <tr>\n",
              "      <th>3</th>\n",
              "      <td>A man is cutting up a cucumber.</td>\n",
              "      <td>A man is slicing a cucumber.</td>\n",
              "      <td>2</td>\n",
              "      <td>main-captions</td>\n",
              "    </tr>\n",
              "    <tr>\n",
              "      <th>4</th>\n",
              "      <td>A man is playing a harp.</td>\n",
              "      <td>A man is playing a keyboard.</td>\n",
              "      <td>0</td>\n",
              "      <td>main-captions</td>\n",
              "    </tr>\n",
              "    <tr>\n",
              "      <th>...</th>\n",
              "      <td>...</td>\n",
              "      <td>...</td>\n",
              "      <td>...</td>\n",
              "      <td>...</td>\n",
              "    </tr>\n",
              "    <tr>\n",
              "      <th>1374</th>\n",
              "      <td>Philippines, Canada pledge to further boost re...</td>\n",
              "      <td>Philippines saves 100 after ferry sinks</td>\n",
              "      <td>0</td>\n",
              "      <td>main-news</td>\n",
              "    </tr>\n",
              "    <tr>\n",
              "      <th>1375</th>\n",
              "      <td>Israel bars Palestinians from Jerusalem's Old ...</td>\n",
              "      <td>Two-state solution between Palestinians, Israe...</td>\n",
              "      <td>0</td>\n",
              "      <td>main-news</td>\n",
              "    </tr>\n",
              "    <tr>\n",
              "      <th>1376</th>\n",
              "      <td>How much do you know about Secret Service?</td>\n",
              "      <td>Lawmakers from both sides express outrage at S...</td>\n",
              "      <td>0</td>\n",
              "      <td>main-news</td>\n",
              "    </tr>\n",
              "    <tr>\n",
              "      <th>1377</th>\n",
              "      <td>Obama Struggles to Soothe Saudi Fears As Iran ...</td>\n",
              "      <td>Myanmar Struggles to Finalize Voter Lists for ...</td>\n",
              "      <td>0</td>\n",
              "      <td>main-news</td>\n",
              "    </tr>\n",
              "    <tr>\n",
              "      <th>1378</th>\n",
              "      <td>South Korea declares end to MERS outbreak</td>\n",
              "      <td>North Korea Delegation Meets With South Korean...</td>\n",
              "      <td>0</td>\n",
              "      <td>main-news</td>\n",
              "    </tr>\n",
              "  </tbody>\n",
              "</table>\n",
              "<p>1379 rows × 4 columns</p>\n",
              "</div>"
            ],
            "text/plain": [
              "                                              sentence1  ...          genre\n",
              "0                           A girl is styling her hair.  ...  main-captions\n",
              "1              A group of men play soccer on the beach.  ...  main-captions\n",
              "2         One woman is measuring another woman's ankle.  ...  main-captions\n",
              "3                       A man is cutting up a cucumber.  ...  main-captions\n",
              "4                              A man is playing a harp.  ...  main-captions\n",
              "...                                                 ...  ...            ...\n",
              "1374  Philippines, Canada pledge to further boost re...  ...      main-news\n",
              "1375  Israel bars Palestinians from Jerusalem's Old ...  ...      main-news\n",
              "1376         How much do you know about Secret Service?  ...      main-news\n",
              "1377  Obama Struggles to Soothe Saudi Fears As Iran ...  ...      main-news\n",
              "1378          South Korea declares end to MERS outbreak  ...      main-news\n",
              "\n",
              "[1379 rows x 4 columns]"
            ]
          },
          "metadata": {},
          "execution_count": 1
        }
      ]
    },
    {
      "cell_type": "code",
      "metadata": {
        "colab": {
          "base_uri": "https://localhost:8080/",
          "height": 91
        },
        "id": "ow-FT8MSqhaq",
        "outputId": "ce2726fb-a1a9-450c-d851-ad5828b03876"
      },
      "source": [
        "\"\"\"\n",
        "train[\"joint\"] =  train[\"sentence1\"]+ \" \" + train[\"sentence2\"]\n",
        "test[\"joint\"] =  test[\"sentence1\"]+\" \" +test[\"sentence2\"]\n",
        "dev[\"joint\"] =  dev[\"sentence1\"]+\" \" +dev[\"sentence2\"]\n",
        "\n",
        "train[\"joint\"]\n",
        "\n",
        "from sklearn.feature_extraction.text import *\n",
        "from sklearn.naive_bayes import MultinomialNB\n",
        "from sklearn.metrics import f1_score\n",
        "from sklearn.pipeline import Pipeline\n",
        "\n",
        ">>> text_clf_tfidf = Pipeline([\n",
        "...     ('vect', CountVectorizer()),\n",
        "...     ('tfidf', TfidfTransformer()),\n",
        "...     ('clf', MultinomialNB()),\n",
        "... ])\n",
        "\n",
        ">>> from sklearn.pipeline import Pipeline\n",
        ">>> text_clf = Pipeline([\n",
        "...     ('vect', CountVectorizer()),\n",
        "...     ('clf', MultinomialNB()),\n",
        "... ])\n",
        "\n",
        "test.genre.unique()\n",
        "\n",
        "train_domain=\"main-forums\"\n",
        "test_domain=\"main-forums\"\n",
        "\n",
        "new_train = train[train.genre==train_domain]\n",
        "new_train[new_train[\"sentence2\"].isna()]\n",
        "\n",
        "new_train = train[train.genre==train_domain]\n",
        "new_test = test[test.genre==test_domain]\n",
        "#new_dev = dev[dev.genre==domain]\n",
        "print(new_train.shape, new_test.shape)\n",
        "text_clf.fit(new_train[\"joint\"],new_train[\"label\"])\n",
        "text_clf_tfidf.fit(new_train[\"joint\"],new_train[\"label\"])\n",
        "from sklearn.metrics import f1_score\n",
        "new_test[\"joint\"]\n",
        "print(\"BoW, NB\\t\",f1_score(new_test[\"label\"],text_clf.predict(new_test[\"joint\"]),average=\"weighted\")*100)\n",
        "print(\"BoW, Tf-IDF, NB\\t\",f1_score(new_test[\"label\"],text_clf_tfidf.predict(new_test[\"joint\"]),average=\"weighted\")*100)\n",
        "\n",
        "text_clf.fit(new_train[\"joint\"],new_train[\"label\"])\n",
        "\n",
        "train_domain=\"main-captions\"\n",
        "test_domain=\"main-forums\"\n",
        "\n",
        "for train_domain in ['main-captions', 'main-forums', 'main-news']:\n",
        "  d1={}\n",
        "  d2={}\n",
        "  z=[]\n",
        "  print(train_domain)\n",
        "  for test_domain in ['main-captions', 'main-forums', 'main-news']:\n",
        "    #print(train_domain, test_domain)\n",
        "    new_train = train[train.genre==train_domain]\n",
        "    new_test = test[test.genre==test_domain]\n",
        "    #new_dev = dev[dev.genre==domain]\n",
        "    #print(new_train.shape, new_test.shape)\n",
        "    text_clf.fit(new_train[\"joint\"],new_train[\"label\"])\n",
        "    text_clf_tfidf.fit(new_train[\"joint\"],new_train[\"label\"])\n",
        "    new_test[\"joint\"]\n",
        "    x=f1_score(new_test[\"label\"],text_clf.predict(new_test[\"joint\"]),average=\"weighted\")*100\n",
        "    y=f1_score(new_test[\"label\"],text_clf_tfidf.predict(new_test[\"joint\"]),average=\"weighted\")*100\n",
        "    #z = f1_score(new_test[\"label\"],Counter(new_test[\"joint\"])).most_common[0],average=\"weighted\")*100\n",
        "    d1[test_domain] = x\n",
        "    d2[test_domain] = y\n",
        "    #print(\"BoW, NB\\t\",train_domain, test_domain, \"\\t\",f1_score(new_test[\"label\"],text_clf.predict(new_test[\"joint\"]),average=\"weighted\")*100)\n",
        "    #print(\"BoW, Tf-IDF, NB\\t\",train_domain, test_domain, \"\\t\",f1_score(new_test[\"label\"],text_clf_tfidf.predict(new_test[\"joint\"]),average=\"weighted\")*100)\n",
        "    print(test_domain)\n",
        "    print(\"True\", Counter(new_test[\"label\"]).most_common(3))\n",
        "    print(\"Predict\", Counter(text_clf.predict(new_test[\"joint\"])).most_common(3))\n",
        "    print(\"Predict tfidf\", Counter(text_clf_tfidf.predict(new_test[\"joint\"])).most_common(3))\n",
        "    z.append(100* f1_score(new_test[\"label\"],[Counter(new_train[\"label\"]).most_common(3)[0][0]]*new_test.shape[0],average=\"weighted\"))\n",
        "  print(d1)\n",
        "  print(d2)\n",
        "  print(z)  \n",
        "  print(\"\\n\")\n",
        "\n",
        "Counter(new_test[\"label\"])\n",
        "\n",
        "from sklearn.linear_model import LogisticRegression\n",
        "from sklearn.linear_model import SGDClassifier\n",
        "\n",
        "#lr = LogisticRegression.\n",
        "\n",
        ">>> from sklearn.pipeline import Pipeline\n",
        ">>> text_clf = Pipeline([\n",
        "...     ('vect', CountVectorizer()),\n",
        "...     ('clf', LogisticRegression(verbose=1, solver='liblinear',random_state=0, C=5, penalty='l2',max_iter=1000)),\n",
        "#...     ('clf', SGDClassifier(loss=\"log\",alpha=1e-3,max_iter=200)),\n",
        "... ])\n",
        "\n",
        ">>> text_clf_tfidf = Pipeline([\n",
        "...     ('vect', CountVectorizer()),\n",
        "...     ('tfidf', TfidfTransformer()),\n",
        "#...     ('clf', SGDClassifier(loss=\"log\",alpha=1e-3,max_iter=200)),\n",
        "...     ('clf', LogisticRegression(verbose=1, solver='liblinear',random_state=0, C=5, penalty='l2',max_iter=1000)),\n",
        "... ])\n",
        "\n",
        "#CountVectorizer.fit(new_train[\"joint\"],new_train[\"label\"])\n",
        "\n",
        "train_domain=\"main-captions\"\n",
        "test_domain=\"main-forums\"\n",
        "\n",
        "for train_domain in ['main-captions', 'main-forums', 'main-news']:\n",
        "  d1={}\n",
        "  d2={}\n",
        "  z=[]\n",
        "  print(train_domain)\n",
        "  for test_domain in ['main-captions', 'main-forums', 'main-news']:\n",
        "    #print(train_domain, test_domain)\n",
        "    new_train = train[train.genre==train_domain]\n",
        "    new_test = test[test.genre==test_domain]\n",
        "    #new_dev = dev[dev.genre==domain]\n",
        "    #print(new_train.shape, new_test.shape)\n",
        "    text_clf.fit(new_train[\"joint\"],new_train[\"label\"])\n",
        "    text_clf_tfidf.fit(new_train[\"joint\"],new_train[\"label\"])\n",
        "    new_test[\"joint\"]\n",
        "    x=f1_score(new_test[\"label\"],text_clf.predict(new_test[\"joint\"]),average=\"weighted\")*100\n",
        "    y=f1_score(new_test[\"label\"],text_clf_tfidf.predict(new_test[\"joint\"]),average=\"weighted\")*100\n",
        "    #z = f1_score(new_test[\"label\"],Counter(new_test[\"joint\"])).most_common[0],average=\"weighted\")*100\n",
        "    d1[test_domain] = x\n",
        "    d2[test_domain] = y\n",
        "    #print(\"BoW, NB\\t\",train_domain, test_domain, \"\\t\",f1_score(new_test[\"label\"],text_clf.predict(new_test[\"joint\"]),average=\"weighted\")*100)\n",
        "    #print(\"BoW, Tf-IDF, NB\\t\",train_domain, test_domain, \"\\t\",f1_score(new_test[\"label\"],text_clf_tfidf.predict(new_test[\"joint\"]),average=\"weighted\")*100)\n",
        "    print(test_domain)\n",
        "    print(\"True\", Counter(new_test[\"label\"]).most_common(3))\n",
        "    print(\"Predict\", Counter(text_clf.predict(new_test[\"joint\"])).most_common(3))\n",
        "    print(\"Predict tfidf\", Counter(text_clf_tfidf.predict(new_test[\"joint\"])).most_common(3))\n",
        "    z.append(100* f1_score(new_test[\"label\"],[Counter(new_train[\"label\"]).most_common(3)[0][0]]*new_test.shape[0],average=\"weighted\"))\n",
        "  print(d1)\n",
        "  print(d2)\n",
        "  print(z)  \n",
        "  print(\"\\n=========================================\\n\")\n",
        "\n",
        "\n",
        "# >>> from sklearn.pipeline import Pipeline\n",
        ">>> text_clf = Pipeline([\n",
        "...     ('vect', CountVectorizer()),\n",
        "...     ('clf', LogisticRegression(verbose=1, solver='liblinear',random_state=0, C=5, penalty='l2',max_iter=1000)),\n",
        "... ])\n",
        "\n",
        ">>> text_clf_tfidf = Pipeline([\n",
        "...     ('vect', CountVectorizer()),\n",
        "...     ('tfidf', TfidfTransformer()),\n",
        "...     ('clf', LogisticRegression(verbose=1, solver='liblinear',random_state=0, C=5, penalty='l2',max_iter=1000)),\n",
        "... ])\n",
        "\"\"\""
      ],
      "execution_count": null,
      "outputs": [
        {
          "output_type": "execute_result",
          "data": {
            "application/vnd.google.colaboratory.intrinsic+json": {
              "type": "string"
            },
            "text/plain": [
              "'\\ntrain[\"joint\"] =  train[\"sentence1\"]+ \" \" + train[\"sentence2\"]\\ntest[\"joint\"] =  test[\"sentence1\"]+\" \" +test[\"sentence2\"]\\ndev[\"joint\"] =  dev[\"sentence1\"]+\" \" +dev[\"sentence2\"]\\n\\ntrain[\"joint\"]\\n\\nfrom sklearn.feature_extraction.text import *\\nfrom sklearn.naive_bayes import MultinomialNB\\nfrom sklearn.metrics import f1_score\\nfrom sklearn.pipeline import Pipeline\\n\\n>>> text_clf_tfidf = Pipeline([\\n...     (\\'vect\\', CountVectorizer()),\\n...     (\\'tfidf\\', TfidfTransformer()),\\n...     (\\'clf\\', MultinomialNB()),\\n... ])\\n\\n>>> from sklearn.pipeline import Pipeline\\n>>> text_clf = Pipeline([\\n...     (\\'vect\\', CountVectorizer()),\\n...     (\\'clf\\', MultinomialNB()),\\n... ])\\n\\ntest.genre.unique()\\n\\ntrain_domain=\"main-forums\"\\ntest_domain=\"main-forums\"\\n\\nnew_train = train[train.genre==train_domain]\\nnew_train[new_train[\"sentence2\"].isna()]\\n\\nnew_train = train[train.genre==train_domain]\\nnew_test = test[test.genre==test_domain]\\n#new_dev = dev[dev.genre==domain]\\nprint(new_train.shape, new_test.shape)\\ntext_clf.fit(new_train[\"joint\"],new_train[\"label\"])\\ntext_clf_tfidf.fit(new_train[\"joint\"],new_train[\"label\"])\\nfrom sklearn.metrics import f1_score\\nnew_test[\"joint\"]\\nprint(\"BoW, NB\\t\",f1_score(new_test[\"label\"],text_clf.predict(new_test[\"joint\"]),average=\"weighted\")*100)\\nprint(\"BoW, Tf-IDF, NB\\t\",f1_score(new_test[\"label\"],text_clf_tfidf.predict(new_test[\"joint\"]),average=\"weighted\")*100)\\n\\ntext_clf.fit(new_train[\"joint\"],new_train[\"label\"])\\n\\ntrain_domain=\"main-captions\"\\ntest_domain=\"main-forums\"\\n\\nfor train_domain in [\\'main-captions\\', \\'main-forums\\', \\'main-news\\']:\\n  d1={}\\n  d2={}\\n  z=[]\\n  print(train_domain)\\n  for test_domain in [\\'main-captions\\', \\'main-forums\\', \\'main-news\\']:\\n    #print(train_domain, test_domain)\\n    new_train = train[train.genre==train_domain]\\n    new_test = test[test.genre==test_domain]\\n    #new_dev = dev[dev.genre==domain]\\n    #print(new_train.shape, new_test.shape)\\n    text_clf.fit(new_train[\"joint\"],new_train[\"label\"])\\n    text_clf_tfidf.fit(new_train[\"joint\"],new_train[\"label\"])\\n    new_test[\"joint\"]\\n    x=f1_score(new_test[\"label\"],text_clf.predict(new_test[\"joint\"]),average=\"weighted\")*100\\n    y=f1_score(new_test[\"label\"],text_clf_tfidf.predict(new_test[\"joint\"]),average=\"weighted\")*100\\n    #z = f1_score(new_test[\"label\"],Counter(new_test[\"joint\"])).most_common[0],average=\"weighted\")*100\\n    d1[test_domain] = x\\n    d2[test_domain] = y\\n    #print(\"BoW, NB\\t\",train_domain, test_domain, \"\\t\",f1_score(new_test[\"label\"],text_clf.predict(new_test[\"joint\"]),average=\"weighted\")*100)\\n    #print(\"BoW, Tf-IDF, NB\\t\",train_domain, test_domain, \"\\t\",f1_score(new_test[\"label\"],text_clf_tfidf.predict(new_test[\"joint\"]),average=\"weighted\")*100)\\n    print(test_domain)\\n    print(\"True\", Counter(new_test[\"label\"]).most_common(3))\\n    print(\"Predict\", Counter(text_clf.predict(new_test[\"joint\"])).most_common(3))\\n    print(\"Predict tfidf\", Counter(text_clf_tfidf.predict(new_test[\"joint\"])).most_common(3))\\n    z.append(100* f1_score(new_test[\"label\"],[Counter(new_train[\"label\"]).most_common(3)[0][0]]*new_test.shape[0],average=\"weighted\"))\\n  print(d1)\\n  print(d2)\\n  print(z)  \\n  print(\"\\n\")\\n\\nCounter(new_test[\"label\"])\\n\\nfrom sklearn.linear_model import LogisticRegression\\nfrom sklearn.linear_model import SGDClassifier\\n\\n#lr = LogisticRegression.\\n\\n>>> from sklearn.pipeline import Pipeline\\n>>> text_clf = Pipeline([\\n...     (\\'vect\\', CountVectorizer()),\\n...     (\\'clf\\', LogisticRegression(verbose=1, solver=\\'liblinear\\',random_state=0, C=5, penalty=\\'l2\\',max_iter=1000)),\\n#...     (\\'clf\\', SGDClassifier(loss=\"log\",alpha=1e-3,max_iter=200)),\\n... ])\\n\\n>>> text_clf_tfidf = Pipeline([\\n...     (\\'vect\\', CountVectorizer()),\\n...     (\\'tfidf\\', TfidfTransformer()),\\n#...     (\\'clf\\', SGDClassifier(loss=\"log\",alpha=1e-3,max_iter=200)),\\n...     (\\'clf\\', LogisticRegression(verbose=1, solver=\\'liblinear\\',random_state=0, C=5, penalty=\\'l2\\',max_iter=1000)),\\n... ])\\n\\n#CountVectorizer.fit(new_train[\"joint\"],new_train[\"label\"])\\n\\ntrain_domain=\"main-captions\"\\ntest_domain=\"main-forums\"\\n\\nfor train_domain in [\\'main-captions\\', \\'main-forums\\', \\'main-news\\']:\\n  d1={}\\n  d2={}\\n  z=[]\\n  print(train_domain)\\n  for test_domain in [\\'main-captions\\', \\'main-forums\\', \\'main-news\\']:\\n    #print(train_domain, test_domain)\\n    new_train = train[train.genre==train_domain]\\n    new_test = test[test.genre==test_domain]\\n    #new_dev = dev[dev.genre==domain]\\n    #print(new_train.shape, new_test.shape)\\n    text_clf.fit(new_train[\"joint\"],new_train[\"label\"])\\n    text_clf_tfidf.fit(new_train[\"joint\"],new_train[\"label\"])\\n    new_test[\"joint\"]\\n    x=f1_score(new_test[\"label\"],text_clf.predict(new_test[\"joint\"]),average=\"weighted\")*100\\n    y=f1_score(new_test[\"label\"],text_clf_tfidf.predict(new_test[\"joint\"]),average=\"weighted\")*100\\n    #z = f1_score(new_test[\"label\"],Counter(new_test[\"joint\"])).most_common[0],average=\"weighted\")*100\\n    d1[test_domain] = x\\n    d2[test_domain] = y\\n    #print(\"BoW, NB\\t\",train_domain, test_domain, \"\\t\",f1_score(new_test[\"label\"],text_clf.predict(new_test[\"joint\"]),average=\"weighted\")*100)\\n    #print(\"BoW, Tf-IDF, NB\\t\",train_domain, test_domain, \"\\t\",f1_score(new_test[\"label\"],text_clf_tfidf.predict(new_test[\"joint\"]),average=\"weighted\")*100)\\n    print(test_domain)\\n    print(\"True\", Counter(new_test[\"label\"]).most_common(3))\\n    print(\"Predict\", Counter(text_clf.predict(new_test[\"joint\"])).most_common(3))\\n    print(\"Predict tfidf\", Counter(text_clf_tfidf.predict(new_test[\"joint\"])).most_common(3))\\n    z.append(100* f1_score(new_test[\"label\"],[Counter(new_train[\"label\"]).most_common(3)[0][0]]*new_test.shape[0],average=\"weighted\"))\\n  print(d1)\\n  print(d2)\\n  print(z)  \\n  print(\"\\n=========================================\\n\")\\n\\n\\n# >>> from sklearn.pipeline import Pipeline\\n>>> text_clf = Pipeline([\\n...     (\\'vect\\', CountVectorizer()),\\n...     (\\'clf\\', LogisticRegression(verbose=1, solver=\\'liblinear\\',random_state=0, C=5, penalty=\\'l2\\',max_iter=1000)),\\n... ])\\n\\n>>> text_clf_tfidf = Pipeline([\\n...     (\\'vect\\', CountVectorizer()),\\n...     (\\'tfidf\\', TfidfTransformer()),\\n...     (\\'clf\\', LogisticRegression(verbose=1, solver=\\'liblinear\\',random_state=0, C=5, penalty=\\'l2\\',max_iter=1000)),\\n... ])\\n'"
            ]
          },
          "metadata": {},
          "execution_count": 2
        }
      ]
    },
    {
      "cell_type": "markdown",
      "metadata": {
        "id": "yRexLOjJm7fn"
      },
      "source": [
        "## CNN Distance"
      ]
    },
    {
      "cell_type": "code",
      "metadata": {
        "id": "RhJVnI2Km7fx"
      },
      "source": [
        "import numpy as np\n",
        "from collections import Counter\n",
        "from operator import itemgetter\n",
        "import matplotlib.pyplot as plt\n",
        "from copy import deepcopy\n",
        "\n",
        "from sklearn.feature_extraction.text import TfidfVectorizer\n",
        "from sklearn.metrics.pairwise import cosine_similarity\n",
        "from sklearn.model_selection import train_test_split\n",
        "from gensim.summarization import bm25\n",
        "import nltk\n",
        "import numpy as np\n",
        "import random\n",
        "import pickle\n",
        "import scipy\n",
        "import sklearn\n",
        "import tqdm\n",
        "import seaborn as sns\n",
        "from __future__ import unicode_literals\n",
        "import xml.etree.ElementTree as ET\n",
        "import copy\n",
        "from pprint import pprint\n",
        "import numpy as np\n",
        "import pandas as pd\n",
        "import numpy as np\n",
        "import re\n",
        "import os\n",
        "import re\n",
        "import sys\n",
        "import numpy as np\n",
        "import pandas as pd\n",
        "import sklearn\n",
        "from collections import Counter\n",
        "from sklearn.model_selection import train_test_split,StratifiedKFold\n",
        "from sklearn.metrics import accuracy_score,f1_score\n",
        "import gensim\n",
        "from gensim.models import KeyedVectors\n",
        "import nltk\n",
        "#from nltk.corpus import stopwords\n",
        "#stopword = stopwords.words('english')\n",
        "import tensorflow as tf\n",
        "import keras\n",
        "from keras.models import Model,Sequential\n",
        "from keras.layers import Conv2D,MaxPool2D,Flatten,Dense,Activation,Bidirectional,TimeDistributed,Activation\n",
        "#from keras.optimizers import Adam,RMSprop\n",
        "from keras import metrics\n",
        "from keras.preprocessing.text import Tokenizer\n",
        "from keras.preprocessing.sequence import pad_sequences\n",
        "from keras.layers import Embedding,Input,Concatenate,Conv2D,Conv1D,MaxPooling1D,Multiply,Add,Dot,GlobalMaxPooling1D\n",
        "from keras.layers import AlphaDropout,Reshape,Dropout,LSTM,Bidirectional,Lambda,CuDNNLSTM\n",
        "from keras.callbacks import ModelCheckpoint,EarlyStopping\n",
        "from keras import backend as K\n",
        "#from keras.engine.topology import Layer\n",
        "from keras import initializers, regularizers, constraints\n",
        "from tensorflow.keras.utils import to_categorical\n",
        "import networkx as nx\n",
        "import matplotlib.pyplot as plt\n",
        "#from wxconv import WXC\n",
        "import sys\n",
        "from keras.utils.vis_utils import model_to_dot\n",
        "from tensorflow.keras.utils import plot_model\n",
        "from IPython.display import SVG"
      ],
      "execution_count": null,
      "outputs": []
    },
    {
      "cell_type": "code",
      "metadata": {
        "colab": {
          "base_uri": "https://localhost:8080/",
          "height": 638
        },
        "id": "5ykkyRKgm7fx",
        "outputId": "ca5805b2-926d-4e4f-8ce5-92581b67174b"
      },
      "source": [
        "!wget https://nlp.stanford.edu/data/glove.840B.300d.zip\n",
        "from zipfile import ZipFile\n",
        "with ZipFile('glove.840B.300d.zip','r') as f:\n",
        "  f.extractall()\n",
        "  \n",
        "!rm -rf glove.840B.300d.zip\n",
        "\n",
        "embedding_index = {}\n",
        "with open('glove.840B.300d.txt','r',encoding='utf-8') as f1:\n",
        "  for line in f1.readlines():\n",
        "    words = line.split(' ')\n",
        "    word = words[0]\n",
        "    embedding_vec = np.asarray(words[1:],dtype='float32')\n",
        "    embedding_index[word] = embedding_vec\n",
        "    \n",
        "embedding_model=embedding_index"
      ],
      "execution_count": null,
      "outputs": [
        {
          "output_type": "stream",
          "name": "stdout",
          "text": [
            "--2021-11-30 05:36:45--  https://nlp.stanford.edu/data/glove.840B.300d.zip\n",
            "Resolving nlp.stanford.edu (nlp.stanford.edu)... 171.64.67.140\n",
            "Connecting to nlp.stanford.edu (nlp.stanford.edu)|171.64.67.140|:443... connected.\n",
            "HTTP request sent, awaiting response... 301 Moved Permanently\n",
            "Location: http://downloads.cs.stanford.edu/nlp/data/glove.840B.300d.zip [following]\n",
            "--2021-11-30 05:36:46--  http://downloads.cs.stanford.edu/nlp/data/glove.840B.300d.zip\n",
            "Resolving downloads.cs.stanford.edu (downloads.cs.stanford.edu)... 171.64.64.22\n",
            "Connecting to downloads.cs.stanford.edu (downloads.cs.stanford.edu)|171.64.64.22|:80... connected.\n",
            "HTTP request sent, awaiting response... 200 OK\n",
            "Length: 2176768927 (2.0G) [application/zip]\n",
            "Saving to: ‘glove.840B.300d.zip’\n",
            "\n",
            "glove.840B.300d.zip   6%[>                   ] 135.98M  5.00MB/s    eta 5m 27s ^C\n"
          ]
        },
        {
          "output_type": "error",
          "ename": "BadZipFile",
          "evalue": "ignored",
          "traceback": [
            "\u001b[0;31m---------------------------------------------------------------------------\u001b[0m",
            "\u001b[0;31mBadZipFile\u001b[0m                                Traceback (most recent call last)",
            "\u001b[0;32m<ipython-input-4-e23906fe423d>\u001b[0m in \u001b[0;36m<module>\u001b[0;34m()\u001b[0m\n\u001b[1;32m      1\u001b[0m \u001b[0mget_ipython\u001b[0m\u001b[0;34m(\u001b[0m\u001b[0;34m)\u001b[0m\u001b[0;34m.\u001b[0m\u001b[0msystem\u001b[0m\u001b[0;34m(\u001b[0m\u001b[0;34m'wget https://nlp.stanford.edu/data/glove.840B.300d.zip'\u001b[0m\u001b[0;34m)\u001b[0m\u001b[0;34m\u001b[0m\u001b[0;34m\u001b[0m\u001b[0m\n\u001b[1;32m      2\u001b[0m \u001b[0;32mfrom\u001b[0m \u001b[0mzipfile\u001b[0m \u001b[0;32mimport\u001b[0m \u001b[0mZipFile\u001b[0m\u001b[0;34m\u001b[0m\u001b[0;34m\u001b[0m\u001b[0m\n\u001b[0;32m----> 3\u001b[0;31m \u001b[0;32mwith\u001b[0m \u001b[0mZipFile\u001b[0m\u001b[0;34m(\u001b[0m\u001b[0;34m'glove.840B.300d.zip'\u001b[0m\u001b[0;34m,\u001b[0m\u001b[0;34m'r'\u001b[0m\u001b[0;34m)\u001b[0m \u001b[0;32mas\u001b[0m \u001b[0mf\u001b[0m\u001b[0;34m:\u001b[0m\u001b[0;34m\u001b[0m\u001b[0;34m\u001b[0m\u001b[0m\n\u001b[0m\u001b[1;32m      4\u001b[0m   \u001b[0mf\u001b[0m\u001b[0;34m.\u001b[0m\u001b[0mextractall\u001b[0m\u001b[0;34m(\u001b[0m\u001b[0;34m)\u001b[0m\u001b[0;34m\u001b[0m\u001b[0;34m\u001b[0m\u001b[0m\n\u001b[1;32m      5\u001b[0m \u001b[0;34m\u001b[0m\u001b[0m\n",
            "\u001b[0;32m/usr/lib/python3.7/zipfile.py\u001b[0m in \u001b[0;36m__init__\u001b[0;34m(self, file, mode, compression, allowZip64, compresslevel)\u001b[0m\n\u001b[1;32m   1256\u001b[0m         \u001b[0;32mtry\u001b[0m\u001b[0;34m:\u001b[0m\u001b[0;34m\u001b[0m\u001b[0;34m\u001b[0m\u001b[0m\n\u001b[1;32m   1257\u001b[0m             \u001b[0;32mif\u001b[0m \u001b[0mmode\u001b[0m \u001b[0;34m==\u001b[0m \u001b[0;34m'r'\u001b[0m\u001b[0;34m:\u001b[0m\u001b[0;34m\u001b[0m\u001b[0;34m\u001b[0m\u001b[0m\n\u001b[0;32m-> 1258\u001b[0;31m                 \u001b[0mself\u001b[0m\u001b[0;34m.\u001b[0m\u001b[0m_RealGetContents\u001b[0m\u001b[0;34m(\u001b[0m\u001b[0;34m)\u001b[0m\u001b[0;34m\u001b[0m\u001b[0;34m\u001b[0m\u001b[0m\n\u001b[0m\u001b[1;32m   1259\u001b[0m             \u001b[0;32melif\u001b[0m \u001b[0mmode\u001b[0m \u001b[0;32min\u001b[0m \u001b[0;34m(\u001b[0m\u001b[0;34m'w'\u001b[0m\u001b[0;34m,\u001b[0m \u001b[0;34m'x'\u001b[0m\u001b[0;34m)\u001b[0m\u001b[0;34m:\u001b[0m\u001b[0;34m\u001b[0m\u001b[0;34m\u001b[0m\u001b[0m\n\u001b[1;32m   1260\u001b[0m                 \u001b[0;31m# set the modified flag so central directory gets written\u001b[0m\u001b[0;34m\u001b[0m\u001b[0;34m\u001b[0m\u001b[0;34m\u001b[0m\u001b[0m\n",
            "\u001b[0;32m/usr/lib/python3.7/zipfile.py\u001b[0m in \u001b[0;36m_RealGetContents\u001b[0;34m(self)\u001b[0m\n\u001b[1;32m   1323\u001b[0m             \u001b[0;32mraise\u001b[0m \u001b[0mBadZipFile\u001b[0m\u001b[0;34m(\u001b[0m\u001b[0;34m\"File is not a zip file\"\u001b[0m\u001b[0;34m)\u001b[0m\u001b[0;34m\u001b[0m\u001b[0;34m\u001b[0m\u001b[0m\n\u001b[1;32m   1324\u001b[0m         \u001b[0;32mif\u001b[0m \u001b[0;32mnot\u001b[0m \u001b[0mendrec\u001b[0m\u001b[0;34m:\u001b[0m\u001b[0;34m\u001b[0m\u001b[0;34m\u001b[0m\u001b[0m\n\u001b[0;32m-> 1325\u001b[0;31m             \u001b[0;32mraise\u001b[0m \u001b[0mBadZipFile\u001b[0m\u001b[0;34m(\u001b[0m\u001b[0;34m\"File is not a zip file\"\u001b[0m\u001b[0;34m)\u001b[0m\u001b[0;34m\u001b[0m\u001b[0;34m\u001b[0m\u001b[0m\n\u001b[0m\u001b[1;32m   1326\u001b[0m         \u001b[0;32mif\u001b[0m \u001b[0mself\u001b[0m\u001b[0;34m.\u001b[0m\u001b[0mdebug\u001b[0m \u001b[0;34m>\u001b[0m \u001b[0;36m1\u001b[0m\u001b[0;34m:\u001b[0m\u001b[0;34m\u001b[0m\u001b[0;34m\u001b[0m\u001b[0m\n\u001b[1;32m   1327\u001b[0m             \u001b[0mprint\u001b[0m\u001b[0;34m(\u001b[0m\u001b[0mendrec\u001b[0m\u001b[0;34m)\u001b[0m\u001b[0;34m\u001b[0m\u001b[0;34m\u001b[0m\u001b[0m\n",
            "\u001b[0;31mBadZipFile\u001b[0m: File is not a zip file"
          ]
        }
      ]
    },
    {
      "cell_type": "code",
      "metadata": {
        "id": "F9sxRazPm7fy"
      },
      "source": [
        "embeddings_index=embedding_index"
      ],
      "execution_count": null,
      "outputs": []
    },
    {
      "cell_type": "markdown",
      "metadata": {
        "id": "U-YutpjwpfXl"
      },
      "source": [
        "#### Example Train Test Domain"
      ]
    },
    {
      "cell_type": "code",
      "metadata": {
        "id": "MqIKqg-Ym7fy"
      },
      "source": [
        "train_domain='main-news'\n",
        "test_domain='main-captions'"
      ],
      "execution_count": null,
      "outputs": []
    },
    {
      "cell_type": "code",
      "metadata": {
        "colab": {
          "base_uri": "https://localhost:8080/",
          "height": 423
        },
        "id": "x_RJ9JJpm7fy",
        "outputId": "9c1ee3c3-7197-466f-f1b6-6e028f039315"
      },
      "source": [
        "train[train[\"genre\"]==train_domain]"
      ],
      "execution_count": null,
      "outputs": [
        {
          "output_type": "execute_result",
          "data": {
            "text/html": [
              "<div>\n",
              "<style scoped>\n",
              "    .dataframe tbody tr th:only-of-type {\n",
              "        vertical-align: middle;\n",
              "    }\n",
              "\n",
              "    .dataframe tbody tr th {\n",
              "        vertical-align: top;\n",
              "    }\n",
              "\n",
              "    .dataframe thead th {\n",
              "        text-align: right;\n",
              "    }\n",
              "</style>\n",
              "<table border=\"1\" class=\"dataframe\">\n",
              "  <thead>\n",
              "    <tr style=\"text-align: right;\">\n",
              "      <th></th>\n",
              "      <th>sentence1</th>\n",
              "      <th>sentence2</th>\n",
              "      <th>label</th>\n",
              "      <th>genre</th>\n",
              "    </tr>\n",
              "  </thead>\n",
              "  <tbody>\n",
              "    <tr>\n",
              "      <th>2447</th>\n",
              "      <td>The problem likely will mean corrective change...</td>\n",
              "      <td>He said the problem needs to be corrected befo...</td>\n",
              "      <td>2</td>\n",
              "      <td>main-news</td>\n",
              "    </tr>\n",
              "    <tr>\n",
              "      <th>2448</th>\n",
              "      <td>SEC Chairman William Donaldson said there is a...</td>\n",
              "      <td>I think there's a building confidence that the...</td>\n",
              "      <td>2</td>\n",
              "      <td>main-news</td>\n",
              "    </tr>\n",
              "    <tr>\n",
              "      <th>2449</th>\n",
              "      <td>Myanmar's pro-democracy leader Aung San Suu Ky...</td>\n",
              "      <td>Myanmar's pro-democracy leader Aung San Suu Ky...</td>\n",
              "      <td>2</td>\n",
              "      <td>main-news</td>\n",
              "    </tr>\n",
              "    <tr>\n",
              "      <th>2450</th>\n",
              "      <td>Darren Dopp, a Spitzer spokesman, declined to ...</td>\n",
              "      <td>John Heine, a spokesman for the commission in ...</td>\n",
              "      <td>0</td>\n",
              "      <td>main-news</td>\n",
              "    </tr>\n",
              "    <tr>\n",
              "      <th>2451</th>\n",
              "      <td>In afternoon trading in Europe, France's CAC-4...</td>\n",
              "      <td>In Europe, France's CAC-40 rose 1.3 percent, B...</td>\n",
              "      <td>0</td>\n",
              "      <td>main-news</td>\n",
              "    </tr>\n",
              "    <tr>\n",
              "      <th>...</th>\n",
              "      <td>...</td>\n",
              "      <td>...</td>\n",
              "      <td>...</td>\n",
              "      <td>...</td>\n",
              "    </tr>\n",
              "    <tr>\n",
              "      <th>5706</th>\n",
              "      <td>Severe Gales As Storm Clodagh Hits Britain</td>\n",
              "      <td>Merkel pledges NATO solidarity with Latvia</td>\n",
              "      <td>0</td>\n",
              "      <td>main-news</td>\n",
              "    </tr>\n",
              "    <tr>\n",
              "      <th>5707</th>\n",
              "      <td>Dozens of Egyptians hostages taken by Libyan t...</td>\n",
              "      <td>Egyptian boat crash death toll rises as more b...</td>\n",
              "      <td>0</td>\n",
              "      <td>main-news</td>\n",
              "    </tr>\n",
              "    <tr>\n",
              "      <th>5708</th>\n",
              "      <td>President heading to Bahrain</td>\n",
              "      <td>President Xi: China to continue help to fight ...</td>\n",
              "      <td>0</td>\n",
              "      <td>main-news</td>\n",
              "    </tr>\n",
              "    <tr>\n",
              "      <th>5709</th>\n",
              "      <td>China, India vow to further bilateral ties</td>\n",
              "      <td>China Scrambles to Reassure Jittery Stock Traders</td>\n",
              "      <td>0</td>\n",
              "      <td>main-news</td>\n",
              "    </tr>\n",
              "    <tr>\n",
              "      <th>5710</th>\n",
              "      <td>Putin spokesman: Doping charges appear unfounded</td>\n",
              "      <td>The Latest on Severe Weather: 1 Dead in Texas ...</td>\n",
              "      <td>0</td>\n",
              "      <td>main-news</td>\n",
              "    </tr>\n",
              "  </tbody>\n",
              "</table>\n",
              "<p>3262 rows × 4 columns</p>\n",
              "</div>"
            ],
            "text/plain": [
              "                                              sentence1  ...      genre\n",
              "2447  The problem likely will mean corrective change...  ...  main-news\n",
              "2448  SEC Chairman William Donaldson said there is a...  ...  main-news\n",
              "2449  Myanmar's pro-democracy leader Aung San Suu Ky...  ...  main-news\n",
              "2450  Darren Dopp, a Spitzer spokesman, declined to ...  ...  main-news\n",
              "2451  In afternoon trading in Europe, France's CAC-4...  ...  main-news\n",
              "...                                                 ...  ...        ...\n",
              "5706         Severe Gales As Storm Clodagh Hits Britain  ...  main-news\n",
              "5707  Dozens of Egyptians hostages taken by Libyan t...  ...  main-news\n",
              "5708                       President heading to Bahrain  ...  main-news\n",
              "5709         China, India vow to further bilateral ties  ...  main-news\n",
              "5710   Putin spokesman: Doping charges appear unfounded  ...  main-news\n",
              "\n",
              "[3262 rows x 4 columns]"
            ]
          },
          "metadata": {},
          "execution_count": 6
        }
      ]
    },
    {
      "cell_type": "code",
      "metadata": {
        "id": "dNWOefLUm7fy"
      },
      "source": [
        "train_sentences1 = train[train[\"genre\"]==train_domain][\"sentence1\"]\n",
        "train_sentences2 = train[train[\"genre\"]==train_domain][\"sentence2\"]\n",
        "trainlabels = train[train[\"genre\"]==train_domain][\"label\"]"
      ],
      "execution_count": null,
      "outputs": []
    },
    {
      "cell_type": "code",
      "metadata": {
        "id": "ltC_NcGSm7fz"
      },
      "source": [
        "test_sentences1 = test[test[\"genre\"]==test_domain][\"sentence1\"]\n",
        "test_sentences2 = test[test[\"genre\"]==test_domain][\"sentence2\"]\n",
        "testlabels = test[test[\"genre\"]==test_domain][\"label\"]"
      ],
      "execution_count": null,
      "outputs": []
    },
    {
      "cell_type": "code",
      "metadata": {
        "colab": {
          "base_uri": "https://localhost:8080/"
        },
        "id": "nnTaO5C7m7fz",
        "outputId": "41e6b473-771b-4f87-9b5f-0bac1e1d1f94"
      },
      "source": [
        "np.mean([len(i.split(\" \")) for i in train_sentences1 ]),np.mean([len(i.split(\" \")) for i in train_sentences2 ])"
      ],
      "execution_count": null,
      "outputs": [
        {
          "output_type": "execute_result",
          "data": {
            "text/plain": [
              "(11.374003678724709, 11.532495401594113)"
            ]
          },
          "metadata": {},
          "execution_count": 9
        }
      ]
    },
    {
      "cell_type": "code",
      "metadata": {
        "id": "j62cN6Rrm7fz",
        "colab": {
          "base_uri": "https://localhost:8080/",
          "height": 245
        },
        "outputId": "a81155cf-642b-469e-8898-81b540fe4fd3"
      },
      "source": [
        "maxlen = 20\n",
        "maxwords = 30000\n",
        "embed_dim = 300\n",
        "\n",
        "tok = Tokenizer(num_words=maxwords)\n",
        "tok.fit_on_texts(train_sentences1+train_sentences2)\n",
        "word_index = tok.word_index\n",
        "\n",
        "embedding_matrix = np.zeros((len(word_index) + 1, embed_dim))\n",
        "for word, i in word_index.items():\n",
        "    if word in embeddings_index:\n",
        "        embedding_vector = embeddings_index[word]\n",
        "    embedding_matrix[i] = embedding_vector"
      ],
      "execution_count": null,
      "outputs": [
        {
          "output_type": "error",
          "ename": "NameError",
          "evalue": "ignored",
          "traceback": [
            "\u001b[0;31m---------------------------------------------------------------------------\u001b[0m",
            "\u001b[0;31mNameError\u001b[0m                                 Traceback (most recent call last)",
            "\u001b[0;32m<ipython-input-10-757166edbdba>\u001b[0m in \u001b[0;36m<module>\u001b[0;34m()\u001b[0m\n\u001b[1;32m      9\u001b[0m \u001b[0membedding_matrix\u001b[0m \u001b[0;34m=\u001b[0m \u001b[0mnp\u001b[0m\u001b[0;34m.\u001b[0m\u001b[0mzeros\u001b[0m\u001b[0;34m(\u001b[0m\u001b[0;34m(\u001b[0m\u001b[0mlen\u001b[0m\u001b[0;34m(\u001b[0m\u001b[0mword_index\u001b[0m\u001b[0;34m)\u001b[0m \u001b[0;34m+\u001b[0m \u001b[0;36m1\u001b[0m\u001b[0;34m,\u001b[0m \u001b[0membed_dim\u001b[0m\u001b[0;34m)\u001b[0m\u001b[0;34m)\u001b[0m\u001b[0;34m\u001b[0m\u001b[0;34m\u001b[0m\u001b[0m\n\u001b[1;32m     10\u001b[0m \u001b[0;32mfor\u001b[0m \u001b[0mword\u001b[0m\u001b[0;34m,\u001b[0m \u001b[0mi\u001b[0m \u001b[0;32min\u001b[0m \u001b[0mword_index\u001b[0m\u001b[0;34m.\u001b[0m\u001b[0mitems\u001b[0m\u001b[0;34m(\u001b[0m\u001b[0;34m)\u001b[0m\u001b[0;34m:\u001b[0m\u001b[0;34m\u001b[0m\u001b[0;34m\u001b[0m\u001b[0m\n\u001b[0;32m---> 11\u001b[0;31m     \u001b[0;32mif\u001b[0m \u001b[0mword\u001b[0m \u001b[0;32min\u001b[0m \u001b[0membeddings_index\u001b[0m\u001b[0;34m:\u001b[0m\u001b[0;34m\u001b[0m\u001b[0;34m\u001b[0m\u001b[0m\n\u001b[0m\u001b[1;32m     12\u001b[0m         \u001b[0membedding_vector\u001b[0m \u001b[0;34m=\u001b[0m \u001b[0membeddings_index\u001b[0m\u001b[0;34m[\u001b[0m\u001b[0mword\u001b[0m\u001b[0;34m]\u001b[0m\u001b[0;34m\u001b[0m\u001b[0;34m\u001b[0m\u001b[0m\n\u001b[1;32m     13\u001b[0m     \u001b[0membedding_matrix\u001b[0m\u001b[0;34m[\u001b[0m\u001b[0mi\u001b[0m\u001b[0;34m]\u001b[0m \u001b[0;34m=\u001b[0m \u001b[0membedding_vector\u001b[0m\u001b[0;34m\u001b[0m\u001b[0;34m\u001b[0m\u001b[0m\n",
            "\u001b[0;31mNameError\u001b[0m: name 'embeddings_index' is not defined"
          ]
        }
      ]
    },
    {
      "cell_type": "code",
      "metadata": {
        "id": "OlqTg5KTm7fz"
      },
      "source": [
        "train_seq1 = tok.texts_to_sequences(train_sentences1)\n",
        "trainind1 = pad_sequences(train_seq1,maxlen=maxlen)\n",
        "\n",
        "test_seq1 = tok.texts_to_sequences(test_sentences1)\n",
        "testind1 = pad_sequences(test_seq1,maxlen=maxlen)\n",
        "\n",
        "train_seq2 = tok.texts_to_sequences(train_sentences2)\n",
        "trainind2 = pad_sequences(train_seq2,maxlen=maxlen)\n",
        "\n",
        "test_seq2 = tok.texts_to_sequences(test_sentences2)\n",
        "testind2 = pad_sequences(test_seq2,maxlen=maxlen)\n"
      ],
      "execution_count": null,
      "outputs": []
    },
    {
      "cell_type": "code",
      "metadata": {
        "id": "fhOEOozmm7fz"
      },
      "source": [
        "train_to_categorical=to_categorical(trainlabels)\n",
        "test_to_categorical=to_categorical(testlabels)"
      ],
      "execution_count": null,
      "outputs": []
    },
    {
      "cell_type": "code",
      "metadata": {
        "id": "sYpHeNspm7f0"
      },
      "source": [
        "def my_model():\n",
        "  I1=Input(shape=(maxlen,))\n",
        "  I2=Input(shape=(maxlen,))\n",
        "  #embed_layer = Embedding(len(word_index)+1,embed_dim,weights=[embedding_matrix],trainable=False)\n",
        "  embed_layer = Embedding(len(word_index)+1,embed_dim,trainable=False)\n",
        "  conv_layer = Conv1D(128, 5, activation='relu')\n",
        "  max_pool_layer = GlobalMaxPooling1D()\n",
        "  dense_layer = Dense(25, activation='relu')\n",
        "  r1 = embed_layer(I1)\n",
        "  r2 = embed_layer(I2)\n",
        "\n",
        "  c1 = conv_layer(r1)\n",
        "  c2 = conv_layer(r2)\n",
        "\n",
        "  c1 = max_pool_layer(c1)\n",
        "  c2 = max_pool_layer(c2)\n",
        "\n",
        "  c1 = dense_layer(c1)\n",
        "  c2 = dense_layer(c2)\n",
        "  subtracted =   keras.layers.Subtract()([c1, c2])\n",
        "  absvalue  = Lambda(lambda x: tf.norm(x,axis=1))(subtracted)\n",
        "  #absvalue  = Lambda(lambda x: K.sqrt(K.sum(x**2,axis=-1)))(subtracted)\n",
        "  o = Activation(\"sigmoid\")(absvalue)\n",
        "  return Model(inputs=[I1,I2],outputs=[o])"
      ],
      "execution_count": null,
      "outputs": []
    },
    {
      "cell_type": "code",
      "metadata": {
        "id": "wEPwI1bWhY7m"
      },
      "source": [
        "import keras"
      ],
      "execution_count": null,
      "outputs": []
    },
    {
      "cell_type": "code",
      "metadata": {
        "colab": {
          "base_uri": "https://localhost:8080/"
        },
        "id": "EWgy-ZRum7f0",
        "outputId": "a2ec23bf-4bb3-46a2-a087-d8a0f4c1b563"
      },
      "source": [
        "model = my_model()\n",
        "model.summary()"
      ],
      "execution_count": null,
      "outputs": [
        {
          "output_type": "stream",
          "name": "stdout",
          "text": [
            "Model: \"model\"\n",
            "__________________________________________________________________________________________________\n",
            " Layer (type)                   Output Shape         Param #     Connected to                     \n",
            "==================================================================================================\n",
            " input_1 (InputLayer)           [(None, 20)]         0           []                               \n",
            "                                                                                                  \n",
            " input_2 (InputLayer)           [(None, 20)]         0           []                               \n",
            "                                                                                                  \n",
            " embedding (Embedding)          (None, 20, 300)      3511500     ['input_1[0][0]',                \n",
            "                                                                  'input_2[0][0]']                \n",
            "                                                                                                  \n",
            " conv1d (Conv1D)                (None, 16, 128)      192128      ['embedding[0][0]',              \n",
            "                                                                  'embedding[1][0]']              \n",
            "                                                                                                  \n",
            " global_max_pooling1d (GlobalMa  (None, 128)         0           ['conv1d[0][0]',                 \n",
            " xPooling1D)                                                      'conv1d[1][0]']                 \n",
            "                                                                                                  \n",
            " dense (Dense)                  (None, 25)           3225        ['global_max_pooling1d[0][0]',   \n",
            "                                                                  'global_max_pooling1d[1][0]']   \n",
            "                                                                                                  \n",
            " subtract (Subtract)            (None, 25)           0           ['dense[0][0]',                  \n",
            "                                                                  'dense[1][0]']                  \n",
            "                                                                                                  \n",
            " lambda (Lambda)                (None,)              0           ['subtract[0][0]']               \n",
            "                                                                                                  \n",
            " activation (Activation)        (None,)              0           ['lambda[0][0]']                 \n",
            "                                                                                                  \n",
            "==================================================================================================\n",
            "Total params: 3,706,853\n",
            "Trainable params: 195,353\n",
            "Non-trainable params: 3,511,500\n",
            "__________________________________________________________________________________________________\n"
          ]
        }
      ]
    },
    {
      "cell_type": "code",
      "metadata": {
        "colab": {
          "base_uri": "https://localhost:8080/",
          "height": 864
        },
        "id": "TmkOVQS0WWig",
        "outputId": "90bdba13-22a4-4c82-ead5-258752633ce7"
      },
      "source": [
        "plot_model(model, show_shapes=True)"
      ],
      "execution_count": null,
      "outputs": [
        {
          "output_type": "execute_result",
          "data": {
            "image/png": "[encoded data removed]",
            "text/plain": [
              "<IPython.core.display.Image object>"
            ]
          },
          "metadata": {},
          "execution_count": 21
        }
      ]
    },
    {
      "cell_type": "code",
      "metadata": {
        "id": "FWZtAmqgm7f0"
      },
      "source": [
        "newtrainlabels = [0.5 if i == 1 else i for i in trainlabels]\n",
        "newtrainlabels = np.array([1 if i == 2 else i for i in newtrainlabels])# from 0,1,2 to 0,0.5,1"
      ],
      "execution_count": null,
      "outputs": []
    },
    {
      "cell_type": "code",
      "metadata": {
        "id": "OOZRbA5um7f0"
      },
      "source": [
        "newtestlabels = [0.5 if i == 1 else i for i in testlabels]\n",
        "newtestlabels = np.array([1 if i == 2 else i for i in newtestlabels])"
      ],
      "execution_count": null,
      "outputs": []
    },
    {
      "cell_type": "code",
      "metadata": {
        "id": "iOJH7KJVm7f0"
      },
      "source": [
        "model = my_model()\n",
        "model.compile(loss='mse',optimizer=tf.keras.optimizers.Adam(learning_rate=0.00007),metrics=['mse'])\n",
        "modelcheckpoint = ModelCheckpoint('temp.h5' ,monitor='val_loss', verbose=0, save_best_only=True,mode='min',save_weights_only=True)\n",
        "earlystop = EarlyStopping(monitor='val_loss', min_delta=0, patience=10)\n",
        "history=model.fit([trainind1,trainind2],newtrainlabels,batch_size=30,validation_split=0.2,callbacks=[modelcheckpoint],epochs=40)"
      ],
      "execution_count": null,
      "outputs": []
    },
    {
      "cell_type": "code",
      "metadata": {
        "id": "m88ucYG7m7f1"
      },
      "source": [
        "def round(list_of_outputs):# from 0 to 1 to 0,1,2\n",
        "  ls =[]\n",
        "  for i in list_of_outputs:\n",
        "    if i <0.25:\n",
        "      l = 0\n",
        "    elif i >= 0.75:\n",
        "      l = 2\n",
        "    else:\n",
        "      l= 1\n",
        "    ls.append(l)\n",
        "  return np.array(ls)"
      ],
      "execution_count": null,
      "outputs": []
    },
    {
      "cell_type": "code",
      "metadata": {
        "id": "qtfISl8nm7f1"
      },
      "source": [
        "def return_f1(data,labels,model=model):\n",
        "  raw_pred = np.nan_to_num(model.predict(data))\n",
        "  pred = round(raw_pred)\n",
        "  return f1_score(list(labels),pred,average=\"weighted\")"
      ],
      "execution_count": null,
      "outputs": []
    },
    {
      "cell_type": "code",
      "metadata": {
        "id": "naYp493Sm7f1"
      },
      "source": [
        "return_f1([trainind1,trainind2],trainlabels), return_f1([testind1,testind2],testlabels)"
      ],
      "execution_count": null,
      "outputs": []
    },
    {
      "cell_type": "code",
      "metadata": {
        "id": "l1K7PB_Xm7f2"
      },
      "source": [
        ""
      ],
      "execution_count": null,
      "outputs": []
    },
    {
      "cell_type": "markdown",
      "metadata": {
        "id": "wECqbXDqm7f2"
      },
      "source": [
        "#### In LOOP: all train and test domains"
      ]
    },
    {
      "cell_type": "code",
      "metadata": {
        "id": "SxtJfQonm7f2"
      },
      "source": [
        ""
      ],
      "execution_count": null,
      "outputs": []
    },
    {
      "cell_type": "code",
      "metadata": {
        "id": "KwopvVADm7f2"
      },
      "source": [
        "train_domain='main-captions'\n",
        "test_domain='main-captions'"
      ],
      "execution_count": null,
      "outputs": []
    },
    {
      "cell_type": "code",
      "metadata": {
        "id": "qs6RoQt5m7f2"
      },
      "source": [
        "for train_domain in ['main-captions', 'main-forums', 'main-news']:\n",
        "  d1={}\n",
        "  z=[]\n",
        "  print(train_domain)\n",
        "  for test_domain in ['main-captions', 'main-forums', 'main-news']:\n",
        "    #print(train_domain, test_domain)\n",
        "    train[train[\"genre\"]==train_domain]\n",
        "    train_sentences1 = train[train[\"genre\"]==train_domain][\"sentence1\"]\n",
        "    train_sentences2 = train[train[\"genre\"]==train_domain][\"sentence2\"]\n",
        "    trainlabels = train[train[\"genre\"]==train_domain][\"label\"]\n",
        "    test_sentences1 = test[test[\"genre\"]==test_domain][\"sentence1\"]\n",
        "    test_sentences2 = test[test[\"genre\"]==test_domain][\"sentence2\"]\n",
        "    testlabels = test[test[\"genre\"]==test_domain][\"label\"]\n",
        "    np.mean([len(i.split(\" \")) for i in train_sentences1 ]),np.mean([len(i.split(\" \")) for i in train_sentences2 ])\n",
        "    maxlen = 20\n",
        "    maxwords = 30000\n",
        "    embed_dim = 300\n",
        "    tok = Tokenizer(num_words=maxwords)\n",
        "    tok.fit_on_texts(train_sentences1+train_sentences2)\n",
        "    word_index = tok.word_index\n",
        "    embedding_matrix = np.zeros((len(word_index) + 1, embed_dim))\n",
        "    for word, i in word_index.items():\n",
        "        if word in embeddings_index:\n",
        "            embedding_vector = embeddings_index[word]\n",
        "        embedding_matrix[i] = embedding_vector\n",
        "    train_seq1 = tok.texts_to_sequences(train_sentences1)\n",
        "    trainind1 = pad_sequences(train_seq1,maxlen=maxlen)\n",
        "    test_seq1 = tok.texts_to_sequences(test_sentences1)\n",
        "    testind1 = pad_sequences(test_seq1,maxlen=maxlen)\n",
        "    train_seq2 = tok.texts_to_sequences(train_sentences2)\n",
        "    trainind2 = pad_sequences(train_seq2,maxlen=maxlen)\n",
        "    test_seq2 = tok.texts_to_sequences(test_sentences2)\n",
        "    testind2 = pad_sequences(test_seq2,maxlen=maxlen)\n",
        "    train_to_categorical=to_categorical(trainlabels)\n",
        "    test_to_categorical=to_categorical(testlabels)\n",
        "    newtrainlabels = [0.5 if i == 1 else i for i in trainlabels]\n",
        "    newtrainlabels = np.array([1 if i == 2 else i for i in newtrainlabels])\n",
        "    newtestlabels = [0.5 if i == 1 else i for i in testlabels]\n",
        "    newtestlabels = np.array([1 if i == 2 else i for i in newtestlabels])\n",
        "    model = my_model()\n",
        "    model.compile(loss='mse',optimizer=tf.keras.optimizers.Adam(learning_rate=0.0005),metrics=['mse'])\n",
        "    modelcheckpoint = ModelCheckpoint('temp.h5' ,monitor='val_loss', verbose=0, save_best_only=True,mode='min',save_weights_only=True)\n",
        "    earlystop = EarlyStopping(monitor='val_loss', min_delta=0, patience=20)\n",
        "    history=model.fit([trainind1,trainind2],newtrainlabels,batch_size=30,validation_split=0.2,callbacks=[modelcheckpoint,earlystop],epochs=40,verbose=0)\n",
        "    d1[test_domain] = return_f1([trainind1,trainind2],trainlabels), return_f1([testind1,testind2],testlabels)\n",
        "    z.append(100* return_f1([testind1,testind2],testlabels))\n",
        "  print(d1)\n",
        "  print(z)  \n",
        "  print(\"\\n=========================================\\n\")\n"
      ],
      "execution_count": null,
      "outputs": []
    },
    {
      "cell_type": "code",
      "metadata": {
        "id": "dXMJ-5Rim7f3"
      },
      "source": [
        ""
      ],
      "execution_count": null,
      "outputs": []
    },
    {
      "cell_type": "markdown",
      "metadata": {
        "id": "Hf-zvY15m7f3"
      },
      "source": [
        "# CNN Categorical"
      ]
    },
    {
      "cell_type": "code",
      "metadata": {
        "id": "N9zjUz5Yu7Yk"
      },
      "source": [
        "from collections import Counter\n",
        "from operator import itemgetter\n",
        "import matplotlib.pyplot as plt\n",
        "from copy import deepcopy\n",
        "\n",
        "from sklearn.feature_extraction.text import TfidfVectorizer\n",
        "from sklearn.metrics.pairwise import cosine_similarity\n",
        "from sklearn.model_selection import train_test_split\n",
        "from gensim.summarization import bm25\n",
        "import nltk\n",
        "import numpy as np\n",
        "import random\n",
        "import pickle\n",
        "import scipy\n",
        "import sklearn\n",
        "import tqdm\n",
        "import seaborn as sns\n",
        "from __future__ import unicode_literals\n",
        "import xml.etree.ElementTree as ET\n",
        "import copy\n",
        "from pprint import pprint\n",
        "import numpy as np\n",
        "import pandas as pd\n",
        "import numpy as np\n",
        "import re\n",
        "import os\n",
        "import re\n",
        "import sys\n",
        "import numpy as np\n",
        "import pandas as pd\n",
        "import sklearn\n",
        "from collections import Counter\n",
        "from sklearn.model_selection import train_test_split,StratifiedKFold\n",
        "from sklearn.metrics import accuracy_score,f1_score\n",
        "import gensim\n",
        "from gensim.models import KeyedVectors\n",
        "import nltk\n",
        "#from nltk.corpus import stopwords\n",
        "#stopword = stopwords.words('english')\n",
        "import tensorflow as tf\n",
        "import keras\n",
        "from keras.models import Model,Sequential\n",
        "from keras.layers import Conv2D,MaxPool2D,Flatten,Dense,Activation,Bidirectional,TimeDistributed,Activation\n",
        "#from keras.optimizers import Adam,RMSprop\n",
        "from keras import metrics\n",
        "from keras.preprocessing.text import Tokenizer\n",
        "from keras.preprocessing.sequence import pad_sequences\n",
        "from keras.layers import Embedding,Input,Concatenate,Conv2D,Conv1D,MaxPooling1D,Multiply,Add,Dot,GlobalMaxPooling1D\n",
        "from keras.layers import AlphaDropout,Reshape,Dropout,LSTM,Bidirectional,Lambda,CuDNNLSTM\n",
        "from keras.callbacks import ModelCheckpoint,EarlyStopping\n",
        "from keras import backend as K\n",
        "#from keras.engine.topology import Layer\n",
        "from keras import initializers, regularizers, constraints\n",
        "from tensorflow.keras.utils import to_categorical\n",
        "import networkx as nx\n",
        "import matplotlib.pyplot as plt\n",
        "#from wxconv import WXC\n",
        "import sys\n",
        "from keras.utils.vis_utils import model_to_dot\n",
        "from tensorflow.keras.utils import plot_model\n",
        "from IPython.display import SVG"
      ],
      "execution_count": null,
      "outputs": []
    },
    {
      "cell_type": "code",
      "metadata": {
        "id": "8qV8ReSf4k9W"
      },
      "source": [
        "!wget https://nlp.stanford.edu/data/glove.840B.300d.zip\n",
        "from zipfile import ZipFile\n",
        "with ZipFile('glove.840B.300d.zip','r') as f:\n",
        "  f.extractall()\n",
        "  \n",
        "!rm -rf glove.840B.300d.zip\n",
        "\n",
        "embedding_index = {}\n",
        "with open('glove.840B.300d.txt','r',encoding='utf-8') as f1:\n",
        "  for line in f1.readlines():\n",
        "    words = line.split(' ')\n",
        "    word = words[0]\n",
        "    embedding_vec = np.asarray(words[1:],dtype='float32')\n",
        "    embedding_index[word] = embedding_vec\n",
        "    \n",
        "embedding_model=embedding_index"
      ],
      "execution_count": null,
      "outputs": []
    },
    {
      "cell_type": "code",
      "metadata": {
        "id": "m9-rVwMjv3Oi"
      },
      "source": [
        "embeddings_index=embedding_index"
      ],
      "execution_count": null,
      "outputs": []
    },
    {
      "cell_type": "markdown",
      "metadata": {
        "id": "uKk6a1sRpn3M"
      },
      "source": [
        ""
      ]
    },
    {
      "cell_type": "markdown",
      "metadata": {
        "id": "vwa5NPoRpn70"
      },
      "source": [
        "#### Example Train Test Domain"
      ]
    },
    {
      "cell_type": "code",
      "metadata": {
        "id": "n8K9aHz__9-i"
      },
      "source": [
        "train_domain='main-captions'\n",
        "test_domain='main-news'"
      ],
      "execution_count": null,
      "outputs": []
    },
    {
      "cell_type": "code",
      "metadata": {
        "id": "tF8mNVdMAIfu"
      },
      "source": [
        "train[train[\"genre\"]==train_domain]"
      ],
      "execution_count": null,
      "outputs": []
    },
    {
      "cell_type": "code",
      "metadata": {
        "id": "snVg-cyo_gk1"
      },
      "source": [
        "train_sentences1 = train[train[\"genre\"]==train_domain][\"sentence1\"]\n",
        "train_sentences2 = train[train[\"genre\"]==train_domain][\"sentence2\"]\n",
        "trainlabels = train[train[\"genre\"]==train_domain][\"label\"]"
      ],
      "execution_count": null,
      "outputs": []
    },
    {
      "cell_type": "code",
      "metadata": {
        "id": "v4pctJ2SAe9G"
      },
      "source": [
        "test_sentences1 = test[test[\"genre\"]==test_domain][\"sentence1\"]\n",
        "test_sentences2 = test[test[\"genre\"]==test_domain][\"sentence2\"]\n",
        "testlabels = test[test[\"genre\"]==test_domain][\"label\"]"
      ],
      "execution_count": null,
      "outputs": []
    },
    {
      "cell_type": "code",
      "metadata": {
        "id": "Txrxp3cC_p6Q"
      },
      "source": [
        "np.mean([len(i.split(\" \")) for i in train_sentences1 ]),np.mean([len(i.split(\" \")) for i in train_sentences2 ])"
      ],
      "execution_count": null,
      "outputs": []
    },
    {
      "cell_type": "code",
      "metadata": {
        "id": "-9P0Z93iwAd7"
      },
      "source": [
        "maxlen = 20\n",
        "maxwords = 30000\n",
        "embed_dim = 300\n",
        "\n",
        "tok = Tokenizer(num_words=maxwords)\n",
        "tok.fit_on_texts(train_sentences1+train_sentences2)\n",
        "word_index = tok.word_index\n",
        "\n",
        "embedding_matrix = np.zeros((len(word_index) + 1, embed_dim))\n",
        "for word, i in word_index.items():\n",
        "    if word in embeddings_index:\n",
        "        embedding_vector = embeddings_index[word]\n",
        "    embedding_matrix[i] = embedding_vector"
      ],
      "execution_count": null,
      "outputs": []
    },
    {
      "cell_type": "code",
      "metadata": {
        "id": "d8RULAK1wDhp"
      },
      "source": [
        "train_seq1 = tok.texts_to_sequences(train_sentences1)\n",
        "trainind1 = pad_sequences(train_seq1,maxlen=maxlen)\n",
        "\n",
        "test_seq1 = tok.texts_to_sequences(test_sentences1)\n",
        "testind1 = pad_sequences(test_seq1,maxlen=maxlen)\n",
        "\n",
        "train_seq2 = tok.texts_to_sequences(train_sentences2)\n",
        "trainind2 = pad_sequences(train_seq2,maxlen=maxlen)\n",
        "\n",
        "test_seq2 = tok.texts_to_sequences(test_sentences2)\n",
        "testind2 = pad_sequences(test_seq2,maxlen=maxlen)\n"
      ],
      "execution_count": null,
      "outputs": []
    },
    {
      "cell_type": "code",
      "metadata": {
        "id": "DtsKf884wF6B"
      },
      "source": [
        "train_to_categorical=to_categorical(trainlabels)\n",
        "test_to_categorical=to_categorical(testlabels)"
      ],
      "execution_count": null,
      "outputs": []
    },
    {
      "cell_type": "code",
      "metadata": {
        "id": "cCdmfo1TnjMa"
      },
      "source": [
        "train_to_categorical.shape"
      ],
      "execution_count": null,
      "outputs": []
    },
    {
      "cell_type": "code",
      "metadata": {
        "id": "77OY5k6QyMir"
      },
      "source": [
        "def my_model():\n",
        "  I1=Input(shape=(maxlen,))\n",
        "  I2=Input(shape=(maxlen,))\n",
        "  embed_layer = Embedding(len(word_index)+1,embed_dim,weights=[embedding_matrix],trainable=False)\n",
        "  conv_layer = Conv1D(128, 5, activation='relu')\n",
        "  max_pool_layer = GlobalMaxPooling1D()\n",
        "  dense_layer = Dense(25, activation='relu')\n",
        "  r1 = embed_layer(I1)\n",
        "  r2 = embed_layer(I2)\n",
        "\n",
        "  c1 = conv_layer(r1)\n",
        "  c2 = conv_layer(r2)\n",
        "\n",
        "  c1 = max_pool_layer(c1)\n",
        "  c2 = max_pool_layer(c2)\n",
        "\n",
        "  c1 = dense_layer(c1)\n",
        "  c2 = dense_layer(c2)\n",
        "  #\n",
        "  concatenated =   keras.layers.Concatenate()([c1, c2])\n",
        "  o  = Dense(25, activation='relu')(concatenated)\n",
        "  o  = Dense(3, activation='softmax')(o)\n",
        "  return Model(inputs=[I1,I2],outputs=[o])"
      ],
      "execution_count": null,
      "outputs": []
    },
    {
      "cell_type": "code",
      "metadata": {
        "colab": {
          "base_uri": "https://localhost:8080/"
        },
        "id": "9UnUwVuXxyAV",
        "outputId": "95050c8e-a817-4eb9-d9ab-44f97b10b4e1"
      },
      "source": [
        "model = my_model()\n",
        "model.summary()"
      ],
      "execution_count": null,
      "outputs": [
        {
          "output_type": "stream",
          "name": "stdout",
          "text": [
            "Model: \"model_1\"\n",
            "__________________________________________________________________________________________________\n",
            " Layer (type)                   Output Shape         Param #     Connected to                     \n",
            "==================================================================================================\n",
            " input_3 (InputLayer)           [(None, 20)]         0           []                               \n",
            "                                                                                                  \n",
            " input_4 (InputLayer)           [(None, 20)]         0           []                               \n",
            "                                                                                                  \n",
            " embedding_1 (Embedding)        (None, 20, 300)      3511500     ['input_3[0][0]',                \n",
            "                                                                  'input_4[0][0]']                \n",
            "                                                                                                  \n",
            " conv1d_1 (Conv1D)              (None, 16, 128)      192128      ['embedding_1[0][0]',            \n",
            "                                                                  'embedding_1[1][0]']            \n",
            "                                                                                                  \n",
            " global_max_pooling1d_1 (Global  (None, 128)         0           ['conv1d_1[0][0]',               \n",
            " MaxPooling1D)                                                    'conv1d_1[1][0]']               \n",
            "                                                                                                  \n",
            " dense_1 (Dense)                (None, 25)           3225        ['global_max_pooling1d_1[0][0]', \n",
            "                                                                  'global_max_pooling1d_1[1][0]'] \n",
            "                                                                                                  \n",
            " concatenate (Concatenate)      (None, 50)           0           ['dense_1[0][0]',                \n",
            "                                                                  'dense_1[1][0]']                \n",
            "                                                                                                  \n",
            " dense_2 (Dense)                (None, 25)           1275        ['concatenate[0][0]']            \n",
            "                                                                                                  \n",
            " dense_3 (Dense)                (None, 3)            78          ['dense_2[0][0]']                \n",
            "                                                                                                  \n",
            "==================================================================================================\n",
            "Total params: 3,708,206\n",
            "Trainable params: 196,706\n",
            "Non-trainable params: 3,511,500\n",
            "__________________________________________________________________________________________________\n"
          ]
        }
      ]
    },
    {
      "cell_type": "code",
      "metadata": {
        "id": "Nd0GoUzrXWSN",
        "colab": {
          "base_uri": "https://localhost:8080/"
        },
        "outputId": "419ebd42-03ca-4c1a-b0ab-f5b0042c1021"
      },
      "source": [
        "plot_model(model, show_shapes=True)"
      ],
      "execution_count": null,
      "outputs": [
        {
          "output_type": "execute_result",
          "data": {
            "image/png": "[encoded data removed]",
            "text/plain": [
              "<IPython.core.display.Image object>"
            ]
          },
          "metadata": {},
          "execution_count": 24
        }
      ]
    },
    {
      "cell_type": "code",
      "metadata": {
        "id": "r4gIOEapxxVI"
      },
      "source": [
        "model = my_model()\n",
        "model.compile(loss='categorical_crossentropy',optimizer=tf.keras.optimizers.Adam(learning_rate=0.00007),metrics=['acc'])\n",
        "modelcheckpoint = ModelCheckpoint('temp.h5' ,monitor='val_loss', verbose=0, save_best_only=True,mode='min',save_weights_only=True)\n",
        "earlystop = EarlyStopping(monitor='val_loss', min_delta=0, patience=7)\n",
        "history=model.fit([trainind1,trainind2],train_to_categorical,batch_size=30,validation_split=0.2,callbacks=[modelcheckpoint],epochs=20)"
      ],
      "execution_count": null,
      "outputs": []
    },
    {
      "cell_type": "code",
      "metadata": {
        "id": "l3P9017snuwy"
      },
      "source": [
        "f1_score(np.argmax(model.predict([trainind1,trainind2]),axis=-1),trainlabels,average=\"weighted\")"
      ],
      "execution_count": null,
      "outputs": []
    },
    {
      "cell_type": "code",
      "metadata": {
        "id": "N9Y2P4agKjYh"
      },
      "source": [
        "f1_score(np.argmax(model.predict([testind1,testind2]),axis=-1),testlabels,average=\"weighted\")"
      ],
      "execution_count": null,
      "outputs": []
    },
    {
      "cell_type": "markdown",
      "metadata": {
        "id": "iESkVfvZMXuE"
      },
      "source": [
        "#### In LOOP: all train and test domains"
      ]
    },
    {
      "cell_type": "code",
      "metadata": {
        "id": "azyWL6FaMYq9"
      },
      "source": [
        ""
      ],
      "execution_count": null,
      "outputs": []
    },
    {
      "cell_type": "code",
      "metadata": {
        "id": "uxnAmu5yMdnO"
      },
      "source": [
        "train_domain='main-captions'\n",
        "test_domain='main-captions'"
      ],
      "execution_count": null,
      "outputs": []
    },
    {
      "cell_type": "code",
      "metadata": {
        "id": "EF0thLKcMdnP"
      },
      "source": [
        "\n",
        "for train_domain in ['main-captions', 'main-forums', 'main-news']:\n",
        "  d1={}\n",
        "  z=[]\n",
        "  print(train_domain)\n",
        "  for test_domain in ['main-captions', 'main-forums', 'main-news']:\n",
        "    #print(train_domain, test_domain)\n",
        "    train[train[\"genre\"]==train_domain]\n",
        "    train_sentences1 = list(train[train[\"genre\"]==train_domain][\"sentence1\"])\n",
        "    train_sentences2 = list(train[train[\"genre\"]==train_domain][\"sentence2\"])\n",
        "    trainlabels = list(train[train[\"genre\"]==train_domain][\"label\"])\n",
        "    test_sentences1 = list(test[test[\"genre\"]==test_domain][\"sentence1\"])\n",
        "    test_sentences2 = list(test[test[\"genre\"]==test_domain][\"sentence2\"])\n",
        "    testlabels = list(test[test[\"genre\"]==test_domain][\"label\"])\n",
        "    np.mean([len(i.split(\" \")) for i in train_sentences1 ]),np.mean([len(i.split(\" \")) for i in train_sentences2 ])\n",
        "    maxlen = 20\n",
        "    maxwords = 30000\n",
        "    embed_dim = 300\n",
        "    tok = Tokenizer(num_words=maxwords)\n",
        "    tok.fit_on_texts(train_sentences1+train_sentences2)\n",
        "    word_index = tok.word_index\n",
        "    embedding_matrix = np.zeros((len(word_index) + 1, embed_dim))\n",
        "    for word, i in word_index.items():\n",
        "        if word in embeddings_index:\n",
        "            embedding_vector = embeddings_index[word]\n",
        "        embedding_matrix[i] = embedding_vector\n",
        "    train_seq1 = tok.texts_to_sequences(train_sentences1)\n",
        "    trainind1 = pad_sequences(train_seq1,maxlen=maxlen)\n",
        "    test_seq1 = tok.texts_to_sequences(test_sentences1)\n",
        "    testind1 = pad_sequences(test_seq1,maxlen=maxlen)\n",
        "    train_seq2 = tok.texts_to_sequences(train_sentences2)\n",
        "    trainind2 = pad_sequences(train_seq2,maxlen=maxlen)\n",
        "    test_seq2 = tok.texts_to_sequences(test_sentences2)\n",
        "    testind2 = pad_sequences(test_seq2,maxlen=maxlen)\n",
        "    train_to_categorical=to_categorical(trainlabels)\n",
        "    test_to_categorical=to_categorical(testlabels)\n",
        "    model = my_model()\n",
        "    model.compile(loss='categorical_crossentropy',optimizer=tf.keras.optimizers.Adam(learning_rate=0.00007),metrics=['acc'])\n",
        "    modelcheckpoint = ModelCheckpoint('temp.h5' ,monitor='val_loss', verbose=0, save_best_only=True,mode='min',save_weights_only=True)\n",
        "    earlystop = EarlyStopping(monitor='val_loss', min_delta=0, patience=7)\n",
        "    history=model.fit([trainind1,trainind2],train_to_categorical,batch_size=30,validation_split=0.2,callbacks=[modelcheckpoint,earlystop],epochs=20, verbose=0)##### VERBOSE FOR NOT PRINTING    \n",
        "    d1[test_domain] = f1_score(np.argmax(model.predict([trainind1,trainind2]),axis=-1),trainlabels,average=\"weighted\"),f1_score(np.argmax(model.predict([testind1,testind2]),axis=-1),testlabels,average=\"weighted\")\n",
        "    z.append(100* f1_score(np.argmax(model.predict([testind1,testind2]),axis=-1),testlabels,average=\"weighted\"))\n",
        "  print(d1)\n",
        "  print(z)  \n",
        "  print(\"\\n=========================================\\n\")\n"
      ],
      "execution_count": null,
      "outputs": []
    },
    {
      "cell_type": "code",
      "metadata": {
        "id": "FCYgQy7gZENN"
      },
      "source": [
        ""
      ],
      "execution_count": null,
      "outputs": []
    },
    {
      "cell_type": "code",
      "metadata": {
        "id": "e1usVnktkDmi"
      },
      "source": [
        "def my_model():\n",
        "  I1=Input(shape=(maxlen,))\n",
        "  I2=Input(shape=(maxlen,))\n",
        "  embed_layer = Embedding(len(word_index)+1,embed_dim,weights=[embedding_matrix],trainable=False)\n",
        "  conv_layer = Conv1D(128, 5, activation='relu')\n",
        "  max_pool_layer = GlobalMaxPooling1D()\n",
        "  dense_layer = Dense(25, activation='relu')\n",
        "  r1 = embed_layer(I1)\n",
        "  r2 = embed_layer(I2)\n",
        "\n",
        "  c1 = conv_layer(r1)\n",
        "  c2 = conv_layer(r2)\n",
        "\n",
        "  c1 = max_pool_layer(c1)\n",
        "  c2 = max_pool_layer(c2)\n",
        "\n",
        "  c1 = dense_layer(c1)\n",
        "  c2 = dense_layer(c2)\n",
        "  subtracted =   keras.layers.Subtract()([c1, c2])\n",
        "  #absvalue  = Dot(axes=1, normalize=True)([c1,c2])\n",
        "  absvalue  = Lambda(lambda x: K.sqrt(K.sum(x**2,axis=-1)))(subtracted)\n",
        "  o = Activation(\"sigmoid\")(absvalue)\n",
        "  o = Lambda(lambda x: 1-x))(subtracted)\n",
        "  return Model(inputs=[I1,I2],outputs=[o])"
      ],
      "execution_count": null,
      "outputs": []
    },
    {
      "cell_type": "code",
      "metadata": {
        "id": "oUWhUFTfkDmj"
      },
      "source": [
        "model = my_model()\n",
        "model.summary()"
      ],
      "execution_count": null,
      "outputs": []
    },
    {
      "cell_type": "code",
      "metadata": {
        "id": "zSD1oDcAkDmj"
      },
      "source": [
        "newtrainlabels = [0.5 if i == 1 else i for i in trainlabels]\n",
        "newtrainlabels = np.array([1 if i == 2 else i for i in newtrainlabels])# from 0,1,2 to 0,0.5,1"
      ],
      "execution_count": null,
      "outputs": []
    },
    {
      "cell_type": "code",
      "metadata": {
        "id": "ftuOOmQSkDmj"
      },
      "source": [
        "newtestlabels = [0.5 if i == 1 else i for i in testlabels]\n",
        "newtestlabels = np.array([1 if i == 2 else i for i in newtestlabels])"
      ],
      "execution_count": null,
      "outputs": []
    },
    {
      "cell_type": "code",
      "metadata": {
        "id": "aoZHnpM5kDmk"
      },
      "source": [
        "model = my_model()\n",
        "model.compile(loss='mse',optimizer=tf.keras.optimizers.Adam(learning_rate=0.00007),metrics=['mse'])\n",
        "modelcheckpoint = ModelCheckpoint('temp.h5' ,monitor='val_loss', verbose=0, save_best_only=True,mode='min',save_weights_only=True)\n",
        "earlystop = EarlyStopping(monitor='val_loss', min_delta=0, patience=10)\n",
        "history=model.fit([trainind1,trainind2],newtrainlabels,batch_size=30,validation_split=0.2,callbacks=[modelcheckpoint],epochs=40)"
      ],
      "execution_count": null,
      "outputs": []
    },
    {
      "cell_type": "code",
      "metadata": {
        "id": "WzOIxipIliMI"
      },
      "source": [
        ""
      ],
      "execution_count": null,
      "outputs": []
    }
  ]
}